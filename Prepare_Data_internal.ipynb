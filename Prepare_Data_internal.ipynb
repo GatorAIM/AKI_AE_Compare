{
 "cells": [
  {
   "cell_type": "code",
   "execution_count": 1,
   "id": "2fbd76f1-1fee-491f-96fc-ed48ee52154c",
   "metadata": {},
   "outputs": [],
   "source": [
    "import pandas as pd\n",
    "import numpy as np\n",
    "from tqdm import tqdm\n",
    "pd.set_option('display.max_columns', None)\n",
    "tqdm.pandas()"
   ]
  },
  {
   "cell_type": "code",
   "execution_count": null,
   "id": "0eac5920-ad19-4ef3-9b48-c7e1c368f423",
   "metadata": {
    "tags": []
   },
   "outputs": [
    {
     "name": "stdout",
     "output_type": "stream",
     "text": [
      "Stored 'pat_id_cols' (list)\n",
      "Stored 'data_path' (str)\n"
     ]
    }
   ],
   "source": [
    "# we use KUMC as the internal dataset\n",
    "data_path = '...'\n",
    "pat_id_cols = [\"CENTER_NAME\", \"PATID\",  \"ONSETS_ENCOUNTERID\"]\n",
    "%store pat_id_cols\n",
    "%store data_path"
   ]
  },
  {
   "cell_type": "code",
   "execution_count": null,
   "id": "881c38e5-5da1-446c-ae39-a6e1a46f86b9",
   "metadata": {
    "tags": []
   },
   "outputs": [
    {
     "name": "stderr",
     "output_type": "stream",
     "text": [
      "/scratch/local/47193230/ipykernel_2299913/1068561221.py:1: DtypeWarning: Columns (0,1) have mixed types. Specify dtype option on import or set low_memory=False.\n",
      "  onset_df = pd.read_csv('/blue/yonghui.wu/lideyi/AKI_VAE/NEW_ONSETS.csv')\n"
     ]
    }
   ],
   "source": [
    "onset_df = pd.read_csv('...')"
   ]
  },
  {
   "cell_type": "markdown",
   "id": "4a6f44bc-a2f5-4d42-9207-ad8d74df021d",
   "metadata": {},
   "source": [
    "We only need non-AKI and general AKI (i.e. no staging). Remove community-acquired AKI (AKI happened at least 3 days after admission). For multiple AKI stage during the hospitalization, we used the earliest onset stage. That is to say, the earliest onset stage should at least 3 days from admission. Feature space will consist of demographcis(binary), lab tests(dense continuouse), procedures(sparse binary) and medications(sparse continuous), SCr information will be not included. Lab tests, procedures and medications are taken from a window of 3 days before onset. For non-AKI patients, the predciton point is the last SCr measurement date."
   ]
  },
  {
   "cell_type": "code",
   "execution_count": 4,
   "id": "7839e38d-b711-4df8-a0cc-cd80dac9832e",
   "metadata": {
    "tags": []
   },
   "outputs": [],
   "source": [
    "KUMC_df = onset_df[onset_df.CENTER_NAME == 'KUMC'].copy(deep = True)"
   ]
  },
  {
   "cell_type": "code",
   "execution_count": 5,
   "id": "eed95ddb-787f-4a3a-a735-6411ffcd78db",
   "metadata": {
    "tags": []
   },
   "outputs": [],
   "source": [
    "# format data type\n",
    "time_cols = ['ADMIT_DATE', 'DISCHARGE_DATE', 'AKI1_ONSET', 'AKI2_ONSET', 'AKI3_ONSET']\n",
    "for col in time_cols:\n",
    "    KUMC_df[col] = pd.to_datetime(KUMC_df[col], format='%Y-%m-%d')\n",
    "\n",
    "KUMC_df[['PATID', 'ONSETS_ENCOUNTERID']] = KUMC_df[['PATID', 'ONSETS_ENCOUNTERID']].astype(str)"
   ]
  },
  {
   "cell_type": "code",
   "execution_count": 7,
   "id": "b7961966-5845-46dd-a155-035ef749810e",
   "metadata": {
    "tags": []
   },
   "outputs": [],
   "source": [
    "KUMC_df = KUMC_df.sort_values(by='ADMIT_DATE', ascending=True)\n",
    "KUMC_df = KUMC_df[(KUMC_df.ADMIT_DATE >= pd.to_datetime('2016-01-01')) & \\\n",
    "                 (KUMC_df.ADMIT_DATE <= pd.to_datetime('2016-12-31'))].reset_index(drop = True)"
   ]
  },
  {
   "cell_type": "code",
   "execution_count": 8,
   "id": "b11b1a9d-0fa5-434c-8291-3825f7f6d7b6",
   "metadata": {},
   "outputs": [],
   "source": [
    "KUMC_df['EARLIEST_STAGE_DATE'] = KUMC_df[['AKI1_ONSET', 'AKI2_ONSET', 'AKI3_ONSET']].min(axis=1)"
   ]
  },
  {
   "cell_type": "code",
   "execution_count": 9,
   "id": "051a45d9-b145-4c99-a5e0-70f55bbbda2f",
   "metadata": {
    "tags": []
   },
   "outputs": [],
   "source": [
    "KUMC_df['EARLIEST_AKI_STAGE_TO_ADMIT'] = (KUMC_df['EARLIEST_STAGE_DATE'] - KUMC_df['ADMIT_DATE']).dt.days"
   ]
  },
  {
   "cell_type": "code",
   "execution_count": 10,
   "id": "fbb5347d-5b66-4d48-bdeb-68cd904ddead",
   "metadata": {
    "tags": []
   },
   "outputs": [],
   "source": [
    "# keep hospital-acquired AKI and non-AKI \"48h\"\n",
    "KUMC_df = KUMC_df[(KUMC_df['EARLIEST_AKI_STAGE_TO_ADMIT'] >= 3) | (KUMC_df['EARLIEST_AKI_STAGE_TO_ADMIT'].isna())]"
   ]
  },
  {
   "cell_type": "code",
   "execution_count": 11,
   "id": "ca9a6213-ae89-4a27-84aa-f42006af0a95",
   "metadata": {
    "tags": []
   },
   "outputs": [],
   "source": [
    "#exclude those baseline SCr > 3.5\n",
    "KUMC_df = KUMC_df.loc[KUMC_df.BASELINE_SCR < 3.5, :]"
   ]
  },
  {
   "cell_type": "code",
   "execution_count": 12,
   "id": "4e6d3e71-fa4f-4de4-b4b5-43c9935cfac6",
   "metadata": {
    "tags": []
   },
   "outputs": [],
   "source": [
    "KUMC_df = KUMC_df.reset_index(drop = True)"
   ]
  },
  {
   "cell_type": "markdown",
   "id": "af2d9fcc-d481-4951-9cf4-2dcefc1db6a7",
   "metadata": {},
   "source": [
    "# Add AKI Onset Label"
   ]
  },
  {
   "cell_type": "code",
   "execution_count": 14,
   "id": "c622e412-7f31-41f3-8b51-7e44ebef6d87",
   "metadata": {
    "tags": []
   },
   "outputs": [],
   "source": [
    "KUMC_df['AKI_LABEL'] = 1 - KUMC_df['NONAKI_SINCE_ADMIT']"
   ]
  },
  {
   "cell_type": "code",
   "execution_count": 15,
   "id": "8e3fb903-756e-4bff-aaa5-33f3d83ca6f8",
   "metadata": {
    "tags": []
   },
   "outputs": [
    {
     "data": {
      "text/plain": [
       "AKI_LABEL\n",
       "0    19192\n",
       "1     2335\n",
       "Name: count, dtype: int64"
      ]
     },
     "execution_count": 15,
     "metadata": {},
     "output_type": "execute_result"
    }
   ],
   "source": [
    "KUMC_df.AKI_LABEL.value_counts()"
   ]
  },
  {
   "cell_type": "markdown",
   "id": "d7ab4d5a-e954-44af-9fc8-84dee8c4a7a0",
   "metadata": {},
   "source": [
    "# Add 1-year Mortality Label"
   ]
  },
  {
   "cell_type": "code",
   "execution_count": 16,
   "id": "75a0ccd0-8d2c-4240-81e4-0539002247c9",
   "metadata": {
    "tags": []
   },
   "outputs": [],
   "source": [
    "KUMC_death = pd.read_csv(data_path + 'AKI_DEMO_DEATH.csv', delimiter = ',', \n",
    "                         usecols = ['PATID', 'AKI.DEATH_DATE\"+PD.DATE_SHIFT\"'])\n",
    "KUMC_death.columns = ['PATID', 'DEATH_DATE']"
   ]
  },
  {
   "cell_type": "code",
   "execution_count": 17,
   "id": "b292bcbe-ecd2-4504-b691-6b69252e0f2e",
   "metadata": {
    "tags": []
   },
   "outputs": [],
   "source": [
    "KUMC_death['PATID'] = KUMC_death['PATID'].astype(str)\n",
    "KUMC_death['DEATH_DATE'] = pd.to_datetime(KUMC_death['DEATH_DATE'], format = 'mixed')"
   ]
  },
  {
   "cell_type": "code",
   "execution_count": 18,
   "id": "0b6f96c1-8c11-4a0b-9f45-18bc366f2be1",
   "metadata": {
    "tags": []
   },
   "outputs": [],
   "source": [
    "KUMC_death.drop_duplicates(subset = 'PATID', inplace = True)"
   ]
  },
  {
   "cell_type": "code",
   "execution_count": 19,
   "id": "56018c82-3231-44ba-ba2d-17dbbf0270a7",
   "metadata": {
    "tags": []
   },
   "outputs": [],
   "source": [
    "KUMC_df = KUMC_df.merge(KUMC_death, on = 'PATID', how = 'left')"
   ]
  },
  {
   "cell_type": "code",
   "execution_count": 20,
   "id": "38831642-ac5f-4035-bf8c-211543218379",
   "metadata": {
    "tags": []
   },
   "outputs": [],
   "source": [
    "KUMC_df['DEATH_DAYS'] = (KUMC_df['DEATH_DATE'] - KUMC_df['DISCHARGE_DATE']).dt.days"
   ]
  },
  {
   "cell_type": "code",
   "execution_count": 21,
   "id": "1cdc2499-2115-4536-8acb-ad123c715bc1",
   "metadata": {
    "tags": []
   },
   "outputs": [],
   "source": [
    "KUMC_df['MORT_1_YEAR'] = (KUMC_df['DEATH_DAYS'] < 365).astype(int)"
   ]
  },
  {
   "cell_type": "code",
   "execution_count": 22,
   "id": "defd4259-5517-4223-9fd6-73a426560a79",
   "metadata": {
    "tags": []
   },
   "outputs": [
    {
     "data": {
      "text/plain": [
       "MORT_1_YEAR\n",
       "0    18307\n",
       "1     3220\n",
       "Name: count, dtype: int64"
      ]
     },
     "execution_count": 22,
     "metadata": {},
     "output_type": "execute_result"
    }
   ],
   "source": [
    "KUMC_df.MORT_1_YEAR.value_counts()"
   ]
  },
  {
   "cell_type": "markdown",
   "id": "16ebff3b-39ff-4748-acfc-2849c654ced8",
   "metadata": {},
   "source": [
    "# Read SCR to Get Prediction Points for Non-AKI Patients"
   ]
  },
  {
   "cell_type": "code",
   "execution_count": 24,
   "id": "9e8f0cf0-770f-40c4-97b2-e14b0c366f44",
   "metadata": {
    "tags": []
   },
   "outputs": [],
   "source": [
    "SCR_df = pd.read_csv(data_path + 'AKI_LAB_SCR.csv')"
   ]
  },
  {
   "cell_type": "code",
   "execution_count": 25,
   "id": "24a8e90f-027a-49bd-b946-10fef087d771",
   "metadata": {
    "tags": []
   },
   "outputs": [],
   "source": [
    "use_cols = ['ONSETS_ENCOUNTERID','PATID','ENCOUNTERID','SPECIMEN_DATE',\n",
    "            'RESULT_NUM', 'DAYS_SINCE_ADMIT']\n",
    "SCR_cols = SCR_df.columns.tolist()\n",
    "SCR_cols = [s[:-len('\"+PD.DATE_SHIFT\"')] \\\n",
    "                  if s.endswith('\"+PD.DATE_SHIFT\"') else s for s in SCR_cols]\n",
    "SCR_df.columns = SCR_cols\n",
    "SCR_df = SCR_df[use_cols]"
   ]
  },
  {
   "cell_type": "code",
   "execution_count": 26,
   "id": "4fc5be19-a0c2-4cd2-ac4c-520104706697",
   "metadata": {
    "tags": []
   },
   "outputs": [],
   "source": [
    "SCR_df['PATID'] = SCR_df['PATID'].astype(str)\n",
    "SCR_df = SCR_df.loc[SCR_df.PATID.isin(KUMC_df.PATID), :]"
   ]
  },
  {
   "cell_type": "code",
   "execution_count": 27,
   "id": "566d43ba-e8d2-4afe-a7e0-19164cb51946",
   "metadata": {
    "tags": []
   },
   "outputs": [],
   "source": [
    "SCR_df['SPECIMEN_DATE'] = pd.to_datetime(SCR_df['SPECIMEN_DATE'], format = '%d-%b-%y')"
   ]
  },
  {
   "cell_type": "code",
   "execution_count": 28,
   "id": "c29dbe07-98ed-4603-a41f-d74045197d56",
   "metadata": {
    "tags": []
   },
   "outputs": [],
   "source": [
    "non_AKI_df = KUMC_df.loc[KUMC_df.NONAKI_SINCE_ADMIT == True, :]"
   ]
  },
  {
   "cell_type": "code",
   "execution_count": 29,
   "id": "44cec169-aa66-4212-b50a-2afab113e434",
   "metadata": {
    "tags": []
   },
   "outputs": [],
   "source": [
    "non_AKI_SCR_df = non_AKI_df.merge(SCR_df[['PATID', 'SPECIMEN_DATE']], on = 'PATID', how = 'left')"
   ]
  },
  {
   "cell_type": "code",
   "execution_count": 30,
   "id": "3c72ffea-80e8-446d-ba75-b0770a51e112",
   "metadata": {
    "tags": []
   },
   "outputs": [],
   "source": [
    "# get those within each encounter\n",
    "non_AKI_SCR_df = non_AKI_SCR_df.loc[(non_AKI_SCR_df.SPECIMEN_DATE > non_AKI_SCR_df.ADMIT_DATE) & \\\n",
    "                                (non_AKI_SCR_df.SPECIMEN_DATE <= non_AKI_SCR_df.DISCHARGE_DATE), :] "
   ]
  },
  {
   "cell_type": "code",
   "execution_count": 31,
   "id": "4bf5ecd9-eecc-45bc-a0f7-e6d9ab481bdc",
   "metadata": {
    "tags": []
   },
   "outputs": [],
   "source": [
    "non_AKI_SCR_df = non_AKI_SCR_df.sort_values(by=['PATID', 'ONSETS_ENCOUNTERID', 'SPECIMEN_DATE'], ascending=True)"
   ]
  },
  {
   "cell_type": "code",
   "execution_count": 32,
   "id": "30a60523-4340-4283-af45-bf67b619aff6",
   "metadata": {
    "tags": []
   },
   "outputs": [],
   "source": [
    "# only take the last SCr measureement date\n",
    "non_AKI_SCR_df = non_AKI_SCR_df.groupby(['PATID', 'ONSETS_ENCOUNTERID']).tail(1).reset_index(drop=True)"
   ]
  },
  {
   "cell_type": "code",
   "execution_count": 33,
   "id": "ee8d5a2b-ac41-4319-aa55-08711661c518",
   "metadata": {
    "tags": []
   },
   "outputs": [],
   "source": [
    "non_AKI_SCR_df.rename(columns = {'SPECIMEN_DATE':'LAST_SCR_DATE'}, inplace = True)"
   ]
  },
  {
   "cell_type": "code",
   "execution_count": 34,
   "id": "e6f2f633-98db-462a-b440-e24526a30391",
   "metadata": {
    "tags": []
   },
   "outputs": [],
   "source": [
    "non_AKI_SCR_df['LAST_SCR_TO_ADMIT'] = (non_AKI_SCR_df['LAST_SCR_DATE'] - non_AKI_SCR_df['ADMIT_DATE']).dt.days"
   ]
  },
  {
   "cell_type": "code",
   "execution_count": 35,
   "id": "f7b3925f-54be-4b12-807f-c07e6e3c153d",
   "metadata": {
    "tags": []
   },
   "outputs": [],
   "source": [
    "non_AKI_SCR_df = non_AKI_SCR_df.loc[non_AKI_SCR_df.LAST_SCR_TO_ADMIT >= 3, :]"
   ]
  },
  {
   "cell_type": "markdown",
   "id": "99a294c2-c833-4d31-9b95-eed5c48df971",
   "metadata": {},
   "source": [
    "# Merge Non-AKI Patients Back and Derive Prediction Point"
   ]
  },
  {
   "cell_type": "code",
   "execution_count": 36,
   "id": "ac7ce9f2-ec6c-446c-a25c-3580c13c9e88",
   "metadata": {
    "tags": []
   },
   "outputs": [],
   "source": [
    "KUMC_df = KUMC_df.merge(non_AKI_SCR_df[['PATID', 'ONSETS_ENCOUNTERID', 'LAST_SCR_DATE']], \n",
    "                        on = ['PATID', 'ONSETS_ENCOUNTERID'], how = 'left')"
   ]
  },
  {
   "cell_type": "code",
   "execution_count": 37,
   "id": "0e4d6cf8-4b68-4a45-8dbe-a51c837aa15e",
   "metadata": {
    "tags": []
   },
   "outputs": [],
   "source": [
    "assert(KUMC_df[KUMC_df.NONAKI_SINCE_ADMIT == False].LAST_SCR_DATE.isna().mean() == 1)\n",
    "assert(KUMC_df[KUMC_df.NONAKI_SINCE_ADMIT == False].EARLIEST_STAGE_DATE.isna().mean() == 0)"
   ]
  },
  {
   "cell_type": "code",
   "execution_count": 38,
   "id": "1866f1e0-90d5-49e1-a812-61e75dcf2bf7",
   "metadata": {
    "tags": []
   },
   "outputs": [],
   "source": [
    "KUMC_df['PREDICTION_POINT'] = KUMC_df['EARLIEST_STAGE_DATE'].combine_first(KUMC_df['LAST_SCR_DATE'])"
   ]
  },
  {
   "cell_type": "code",
   "execution_count": 39,
   "id": "13b3505b-e760-4f05-9aa3-86ad8393ac4f",
   "metadata": {
    "tags": []
   },
   "outputs": [],
   "source": [
    "# filter out those cannot find a prediction point\n",
    "KUMC_df = KUMC_df[KUMC_df.PREDICTION_POINT.notna()].reset_index(drop=True)"
   ]
  },
  {
   "cell_type": "code",
   "execution_count": 40,
   "id": "9afab7ec-a047-44a1-9536-17fdf4cf9e01",
   "metadata": {
    "tags": []
   },
   "outputs": [],
   "source": [
    "KUMC_df['PREDICTION_POINT_TO_ADMIT'] = (KUMC_df['PREDICTION_POINT'] - KUMC_df['ADMIT_DATE']).dt.days\n",
    "assert((KUMC_df.PREDICTION_POINT_TO_ADMIT >= 3).all())"
   ]
  },
  {
   "cell_type": "markdown",
   "id": "afe5d174-18cf-40d4-8076-c8d10ff8dbf3",
   "metadata": {},
   "source": [
    "# Read Medications"
   ]
  },
  {
   "cell_type": "code",
   "execution_count": 4,
   "id": "84aa3c77-55b4-43d8-b185-908786cd2524",
   "metadata": {
    "tags": []
   },
   "outputs": [],
   "source": [
    "MED_df = pd.read_csv(data_path + 'AKI_AMED.csv', usecols = ['PATID', 'MEDADMIN_START_DATE\"+PD.DATE_SHIFT\"',\n",
    "                                                            'MEDADMIN_STOP_DATE\"+PD.DATE_SHIFT\"', 'MEDADMIN_TYPE',\n",
    "                                                            'MEDADMIN_CODE', 'MEDADMIN_DOSE_ADMIN'])"
   ]
  },
  {
   "cell_type": "code",
   "execution_count": 42,
   "id": "27f3b44e-55b0-4a1b-9115-cd332cf85bb8",
   "metadata": {
    "tags": []
   },
   "outputs": [],
   "source": [
    "MED_df[['PATID', 'MEDADMIN_CODE']]= MED_df[['PATID', 'MEDADMIN_CODE']].astype(str)\n",
    "MED_df.rename(columns = {'MEDADMIN_START_DATE\"+PD.DATE_SHIFT\"': \"MED_START_DATE\",\n",
    "                             'MEDADMIN_STOP_DATE\"+PD.DATE_SHIFT\"': \"MED_END_DATE\"}, inplace = True)"
   ]
  },
  {
   "cell_type": "code",
   "execution_count": 43,
   "id": "c5d932e9-0b6a-4cf8-a637-b0dd9330b6a8",
   "metadata": {
    "tags": []
   },
   "outputs": [],
   "source": [
    "# filter before formatting data\n",
    "MED_df = MED_df.loc[MED_df.PATID.isin(KUMC_df.PATID), :]"
   ]
  },
  {
   "cell_type": "code",
   "execution_count": 44,
   "id": "e4e31d30-ca65-400c-88e6-7dd0d89087b8",
   "metadata": {
    "tags": []
   },
   "outputs": [],
   "source": [
    "MED_df['MED_START_DATE'] = pd.to_datetime(MED_df['MED_START_DATE'], format = '%d-%b-%y')\n",
    "MED_df['MED_END_DATE'] = pd.to_datetime(MED_df['MED_END_DATE'], format = '%d-%b-%y')"
   ]
  },
  {
   "cell_type": "code",
   "execution_count": 45,
   "id": "393fcb4f-b2e7-482b-a158-9d8519956e60",
   "metadata": {
    "tags": []
   },
   "outputs": [],
   "source": [
    "KUMC_med = KUMC_df.merge(MED_df, on = 'PATID', how = 'left')"
   ]
  },
  {
   "cell_type": "code",
   "execution_count": 46,
   "id": "6cfcb9d2-772c-45ec-a804-487d729188ca",
   "metadata": {
    "tags": []
   },
   "outputs": [],
   "source": [
    "# medication should overlap with observation window\n",
    "KUMC_med = KUMC_med[(KUMC_med.MED_START_DATE < KUMC_med.PREDICTION_POINT) & \\\n",
    "                    (KUMC_med.MED_END_DATE >= (KUMC_med.PREDICTION_POINT - pd.Timedelta(days = 3)))]"
   ]
  },
  {
   "cell_type": "code",
   "execution_count": 47,
   "id": "bc6e23ff-fc51-4c57-b945-feefc60d453d",
   "metadata": {
    "tags": []
   },
   "outputs": [],
   "source": [
    "KUMC_med_final = KUMC_med.pivot_table(index=['PATID', 'ONSETS_ENCOUNTERID'], \n",
    "                             columns='MEDADMIN_CODE', \n",
    "                             values='MEDADMIN_DOSE_ADMIN', \n",
    "                             fill_value=0, \n",
    "                             aggfunc='max').reset_index()"
   ]
  },
  {
   "cell_type": "code",
   "execution_count": 48,
   "id": "00917afb-a096-4a53-a340-417e8510c820",
   "metadata": {
    "tags": []
   },
   "outputs": [],
   "source": [
    "medication_space = KUMC_med_final.columns[2:]"
   ]
  },
  {
   "cell_type": "code",
   "execution_count": 49,
   "id": "d6c8a702-4941-4c1a-a923-5c68b6869a42",
   "metadata": {
    "tags": []
   },
   "outputs": [],
   "source": [
    "KUMC_df = KUMC_df.merge(KUMC_med_final, on = ['PATID', 'ONSETS_ENCOUNTERID'],\n",
    "                       how = 'left')"
   ]
  },
  {
   "cell_type": "code",
   "execution_count": 50,
   "id": "9db0ab2b-72ac-46b1-a983-efd8d0b69ec9",
   "metadata": {
    "tags": []
   },
   "outputs": [],
   "source": [
    "# Fill NaN values in the medication_space column(s) with 0\n",
    "KUMC_df[medication_space] = KUMC_df[medication_space].fillna(0)"
   ]
  },
  {
   "cell_type": "code",
   "execution_count": 51,
   "id": "d75d3420-82df-4097-b0c4-c8974d36ced2",
   "metadata": {
    "tags": []
   },
   "outputs": [],
   "source": [
    "# drop featurus with a imbalance > 0.99\n",
    "def drop_highly_imbalanced(df, cols, threshold=0.99):\n",
    "    cols_to_drop = []\n",
    "    for col in tqdm(cols):\n",
    "        max_proportion = df[col].value_counts(normalize=True).max()\n",
    "        if max_proportion > threshold:\n",
    "            cols_to_drop.append(col)\n",
    "    updated_cols = [col for col in cols if col not in cols_to_drop]\n",
    "    return df.drop(columns=cols_to_drop), updated_cols"
   ]
  },
  {
   "cell_type": "code",
   "execution_count": 52,
   "id": "225466ad-280d-42b1-963c-9645e3e0c49e",
   "metadata": {
    "tags": []
   },
   "outputs": [
    {
     "name": "stderr",
     "output_type": "stream",
     "text": [
      "100%|██████████| 1932/1932 [00:00<00:00, 3153.66it/s]\n"
     ]
    }
   ],
   "source": [
    "KUMC_df, medication_space = drop_highly_imbalanced(KUMC_df, medication_space, threshold=0.99)"
   ]
  },
  {
   "cell_type": "code",
   "execution_count": 53,
   "id": "569896ae-ba13-4276-a135-739ec05b67b9",
   "metadata": {
    "tags": []
   },
   "outputs": [
    {
     "data": {
      "text/plain": [
       "277"
      ]
     },
     "execution_count": 53,
     "metadata": {},
     "output_type": "execute_result"
    }
   ],
   "source": [
    "len(medication_space)"
   ]
  },
  {
   "cell_type": "markdown",
   "id": "7b1805fe-0050-47da-a3e2-7de551957cf3",
   "metadata": {},
   "source": [
    "# Read Procedures"
   ]
  },
  {
   "cell_type": "code",
   "execution_count": 54,
   "id": "71c59bd2-1c42-47fe-8e67-65176da2fcb4",
   "metadata": {
    "tags": []
   },
   "outputs": [
    {
     "name": "stderr",
     "output_type": "stream",
     "text": [
      "/scratch/local/47039627/ipykernel_1286638/442569290.py:1: DtypeWarning: Columns (8) have mixed types. Specify dtype option on import or set low_memory=False.\n",
      "  PX_df = pd.read_csv(data_path + 'AKI_PX.csv', usecols = ['PATID', 'PX_DATE\"+PD.DATE_SHIFT\"', 'PX'])\n"
     ]
    }
   ],
   "source": [
    "PX_df = pd.read_csv(data_path + 'AKI_PX.csv', usecols = ['PATID', 'PX_DATE\"+PD.DATE_SHIFT\"', 'PX'])"
   ]
  },
  {
   "cell_type": "code",
   "execution_count": 55,
   "id": "e99992cc-cc03-4636-9849-3926e25d9795",
   "metadata": {},
   "outputs": [],
   "source": [
    "# filter before formatting data type\n",
    "PX_df[['PATID', 'PX']] = PX_df[['PATID', 'PX']].astype(str)\n",
    "PX_df = PX_df[PX_df.PATID.isin(KUMC_df.PATID)]"
   ]
  },
  {
   "cell_type": "code",
   "execution_count": 56,
   "id": "7d836d13-35d4-4561-90b6-97763581248e",
   "metadata": {
    "tags": []
   },
   "outputs": [],
   "source": [
    "PX_df.rename(columns = {'PX_DATE\"+PD.DATE_SHIFT\"': 'PX_DATE'}, inplace = True)\n",
    "PX_df['PX_DATE'] = pd.to_datetime(PX_df['PX_DATE'], format = '%d-%b-%y')"
   ]
  },
  {
   "cell_type": "code",
   "execution_count": 57,
   "id": "4a967a23-faf2-4f84-9394-94b5a7341be5",
   "metadata": {
    "tags": []
   },
   "outputs": [],
   "source": [
    "KUMC_PX = KUMC_df.merge(PX_df, on = 'PATID', how = 'left')"
   ]
  },
  {
   "cell_type": "code",
   "execution_count": 58,
   "id": "81f0e62c-00f2-487e-854f-9948873efacd",
   "metadata": {
    "tags": []
   },
   "outputs": [],
   "source": [
    "# we require that PX fall within the observation window\n",
    "KUMC_PX = KUMC_PX[(KUMC_PX.PX_DATE >= (KUMC_PX.PREDICTION_POINT - pd.Timedelta(days = 3))) & \\\n",
    "                 (KUMC_PX.PX_DATE < KUMC_PX.PREDICTION_POINT)]"
   ]
  },
  {
   "cell_type": "code",
   "execution_count": 59,
   "id": "b83b4062-c711-4c6f-ac87-5e5783c7f042",
   "metadata": {
    "tags": []
   },
   "outputs": [],
   "source": [
    "KUMC_PX.loc[:, 'HELP_COL'] = 1\n",
    "KUMC_PX_final = KUMC_PX.pivot_table(index=['PATID', 'ONSETS_ENCOUNTERID'], \n",
    "                             columns='PX', \n",
    "                             values='HELP_COL', \n",
    "                             fill_value=0, \n",
    "                             aggfunc='max').reset_index()"
   ]
  },
  {
   "cell_type": "code",
   "execution_count": 60,
   "id": "0bb8bc85-e529-459b-a6fb-f73c36fd9743",
   "metadata": {
    "tags": []
   },
   "outputs": [],
   "source": [
    "PX_space = KUMC_PX_final.columns[2:]"
   ]
  },
  {
   "cell_type": "code",
   "execution_count": 61,
   "id": "937c6cb9-bfe7-41d6-88cc-3ab1ac900702",
   "metadata": {
    "tags": []
   },
   "outputs": [],
   "source": [
    "KUMC_df = KUMC_df.merge(KUMC_PX_final, on = ['PATID', 'ONSETS_ENCOUNTERID'],\n",
    "                       how = 'left')"
   ]
  },
  {
   "cell_type": "code",
   "execution_count": 62,
   "id": "89d7ef58-5d0b-45ba-afd7-5afbf5552d63",
   "metadata": {
    "tags": []
   },
   "outputs": [],
   "source": [
    "# Fill NaN values in the PX column(s) with 0\n",
    "KUMC_df[PX_space] = KUMC_df[PX_space].fillna(0)"
   ]
  },
  {
   "cell_type": "code",
   "execution_count": 63,
   "id": "544d078f-f2f5-4c21-ad05-74b99c76fda3",
   "metadata": {
    "tags": []
   },
   "outputs": [
    {
     "name": "stderr",
     "output_type": "stream",
     "text": [
      "100%|██████████| 3281/3281 [00:01<00:00, 3054.82it/s]\n"
     ]
    }
   ],
   "source": [
    "KUMC_df, PX_space = drop_highly_imbalanced(KUMC_df, PX_space, threshold=0.99)"
   ]
  },
  {
   "cell_type": "code",
   "execution_count": 64,
   "id": "8f5f9251-c7f0-48d1-a315-51bc9367c0e0",
   "metadata": {
    "tags": []
   },
   "outputs": [
    {
     "data": {
      "text/plain": [
       "288"
      ]
     },
     "execution_count": 64,
     "metadata": {},
     "output_type": "execute_result"
    }
   ],
   "source": [
    "len(PX_space)"
   ]
  },
  {
   "cell_type": "markdown",
   "id": "74d4acdd-a741-4d22-b09a-50a3e29d1715",
   "metadata": {},
   "source": [
    "# Each Patient Should Be Unique: Just use the first Encounter of Each Patients"
   ]
  },
  {
   "cell_type": "code",
   "execution_count": 66,
   "id": "5ebf2e3d-3241-40bd-982c-88b10aa03f46",
   "metadata": {
    "tags": []
   },
   "outputs": [],
   "source": [
    "KUMC_df = KUMC_df.sort_values(by=['PATID', 'ADMIT_DATE'], ascending=True)\n",
    "# drop duplicates based on PATID and ENCOUTNERID and keep the first records\n",
    "KUMC_df = KUMC_df.drop_duplicates(subset='PATID', keep='first')"
   ]
  },
  {
   "cell_type": "markdown",
   "id": "0d851155-46dd-4e18-a054-753f4665ddad",
   "metadata": {},
   "source": [
    "# Read Labs"
   ]
  },
  {
   "cell_type": "code",
   "execution_count": 68,
   "id": "e8429be5-b434-41f1-a89c-0bd97222182d",
   "metadata": {
    "tags": []
   },
   "outputs": [],
   "source": [
    "with open(data_path + 'AKI_LAB.csv', 'r', encoding='utf-8', errors='ignore') as file:\n",
    "    LAB_df = pd.read_csv(data_path + 'AKI_LAB.csv', \n",
    "                      delimiter=\",\", usecols=['PATID', 'LAB_LOINC', 'SPECIMEN_DATE\"+PD.DATE_SHIFT\"', \n",
    "                                              'RESULT_NUM'],\n",
    "                      encoding='unicode_escape')"
   ]
  },
  {
   "cell_type": "code",
   "execution_count": 69,
   "id": "0f879347-26c7-43f6-9eae-fa97c754f813",
   "metadata": {
    "tags": []
   },
   "outputs": [],
   "source": [
    "LAB_df[['PATID', 'LAB_LOINC']] = LAB_df[['PATID', 'LAB_LOINC']].astype(str)\n",
    "LAB_df.rename(columns = {'SPECIMEN_DATE\"+PD.DATE_SHIFT\"': 'SPECIMEN_DATE'}, inplace = True)"
   ]
  },
  {
   "cell_type": "code",
   "execution_count": 70,
   "id": "01aa3c60-a07d-4fbb-89b5-1dfe75fc66d6",
   "metadata": {
    "tags": []
   },
   "outputs": [],
   "source": [
    "# filter before data type change\n",
    "LAB_df = LAB_df[LAB_df.PATID.isin(KUMC_df.PATID)]"
   ]
  },
  {
   "cell_type": "code",
   "execution_count": 71,
   "id": "b6517b08-18ce-4d65-9afe-8c735d84cc67",
   "metadata": {
    "tags": []
   },
   "outputs": [],
   "source": [
    "used_lab_codes = ['17861-6', '2075-0', '2345-7', '2823-3', '2951-2', '3094-0', '4544-3', \n",
    "                  '718-7', '742-7', '777-3', '785-6', '786-4', '787-2', '788-0', '789-8']\n",
    "LAB_df = LAB_df.loc[LAB_df.LAB_LOINC.isin(used_lab_codes), :]"
   ]
  },
  {
   "cell_type": "code",
   "execution_count": 72,
   "id": "6b1bb98a-b527-43be-8036-393ced1df5fc",
   "metadata": {
    "tags": []
   },
   "outputs": [],
   "source": [
    "LAB_df['SPECIMEN_DATE'] = pd.to_datetime(LAB_df['SPECIMEN_DATE'], format = '%d-%b-%y')"
   ]
  },
  {
   "cell_type": "code",
   "execution_count": 73,
   "id": "4c1f1b9a-c865-47a7-9bad-a46e6823e4d2",
   "metadata": {
    "tags": []
   },
   "outputs": [],
   "source": [
    "KUMC_LAB = KUMC_df.merge(LAB_df, on = 'PATID', how = 'left')"
   ]
  },
  {
   "cell_type": "code",
   "execution_count": 74,
   "id": "db06359f-3d9c-4f10-9eed-dc19714a32fc",
   "metadata": {},
   "outputs": [],
   "source": [
    "# we require that LAB fall within the observation window\n",
    "KUMC_LAB = KUMC_LAB[(KUMC_LAB.SPECIMEN_DATE >= (KUMC_LAB.PREDICTION_POINT - pd.Timedelta(days = 3))) & \\\n",
    "                 (KUMC_LAB.SPECIMEN_DATE < KUMC_LAB.PREDICTION_POINT)]"
   ]
  },
  {
   "cell_type": "code",
   "execution_count": 75,
   "id": "4809b3bd-84c3-469c-99a5-adeb1bec7b8d",
   "metadata": {
    "tags": []
   },
   "outputs": [],
   "source": [
    "# same lab within the window are averaged\n",
    "KUMC_LAB = KUMC_LAB.groupby(['PATID', 'ONSETS_ENCOUNTERID','LAB_LOINC'])['RESULT_NUM'].mean().reset_index()"
   ]
  },
  {
   "cell_type": "code",
   "execution_count": 76,
   "id": "38b54767-0442-4b48-acfd-59e91a6a4ae3",
   "metadata": {},
   "outputs": [],
   "source": [
    "KUMC_LAB_final = KUMC_LAB.pivot_table(index=['PATID', 'ONSETS_ENCOUNTERID'], \n",
    "                             columns='LAB_LOINC', \n",
    "                             values='RESULT_NUM', \n",
    "                             fill_value=np.nan, \n",
    "                             aggfunc='max').reset_index()"
   ]
  },
  {
   "cell_type": "code",
   "execution_count": 77,
   "id": "ad315da4-2b03-4afb-9857-1caf28eee92a",
   "metadata": {
    "tags": []
   },
   "outputs": [],
   "source": [
    "lab_space = KUMC_LAB_final.columns[2:]"
   ]
  },
  {
   "cell_type": "code",
   "execution_count": 78,
   "id": "83adb015-2490-4b02-89ac-abeb4ec43f89",
   "metadata": {
    "tags": []
   },
   "outputs": [],
   "source": [
    "KUMC_df = KUMC_df.merge(KUMC_LAB_final, on = ['PATID', 'ONSETS_ENCOUNTERID'],\n",
    "                       how = 'left')"
   ]
  },
  {
   "cell_type": "code",
   "execution_count": 79,
   "id": "f7939f85-7a0a-4064-90d0-20920a716eb9",
   "metadata": {
    "tags": []
   },
   "outputs": [],
   "source": [
    "# remove lab cols missing rate > 30%\n",
    "threshold = 0.3\n",
    "labs_to_drop = [col for col in lab_space if KUMC_df[col].isna().mean() > threshold]\n",
    "\n",
    "# Drop the columns from the DataFrame\n",
    "KUMC_df = KUMC_df.drop(columns=labs_to_drop)"
   ]
  },
  {
   "cell_type": "code",
   "execution_count": 80,
   "id": "254cdafb-2746-4433-855a-d115fc6ee64d",
   "metadata": {
    "tags": []
   },
   "outputs": [],
   "source": [
    "# update lab space \n",
    "lab_space = [lab for lab in lab_space if lab not in labs_to_drop]"
   ]
  },
  {
   "cell_type": "code",
   "execution_count": 81,
   "id": "9dccfdf9-cc68-4ffd-b465-5360ec7a0b96",
   "metadata": {},
   "outputs": [],
   "source": [
    "from sklearn.experimental import enable_iterative_imputer  # noqa\n",
    "from sklearn.impute import IterativeImputer"
   ]
  },
  {
   "cell_type": "code",
   "execution_count": 82,
   "id": "55176f24-bee8-4d29-852a-2314f94c0e45",
   "metadata": {},
   "outputs": [],
   "source": [
    "# use MICE to fill in missing data\n",
    "imputer = IterativeImputer(missing_values=np.nan, max_iter=10000, random_state=42)\n",
    "# should only fit on train data in case for data leakage\n",
    "KUMC_df.loc[:, lab_space] = imputer.fit_transform(KUMC_df.loc[:, lab_space])\n",
    "# convert data type\n",
    "KUMC_df.loc[:, lab_space] = KUMC_df.loc[:, lab_space].astype(np.float64)"
   ]
  },
  {
   "cell_type": "markdown",
   "id": "65125229-b88e-42bd-9a77-a04b3bbc41f7",
   "metadata": {},
   "source": [
    "# Get Basic Statistics before Removing IDs"
   ]
  },
  {
   "cell_type": "code",
   "execution_count": 84,
   "id": "8f1a28d1-2db0-40e3-b7fd-ddb3310c8610",
   "metadata": {},
   "outputs": [
    {
     "name": "stdout",
     "output_type": "stream",
     "text": [
      "13752\n"
     ]
    }
   ],
   "source": [
    "# cohort size \n",
    "print(len(KUMC_df))"
   ]
  },
  {
   "cell_type": "code",
   "execution_count": 85,
   "id": "de47874e-2d19-4d8a-b836-b639fcf20fe3",
   "metadata": {},
   "outputs": [
    {
     "name": "stdout",
     "output_type": "stream",
     "text": [
      "277\n",
      "288\n",
      "14\n"
     ]
    }
   ],
   "source": [
    "print(len(list(medication_space)))\n",
    "print(len(list(PX_space)))\n",
    "print(len(list(lab_space)))"
   ]
  },
  {
   "cell_type": "code",
   "execution_count": 86,
   "id": "62ad6904-83c9-4a58-9c05-bec3ba51abbc",
   "metadata": {},
   "outputs": [
    {
     "name": "stdout",
     "output_type": "stream",
     "text": [
      "1636\n",
      "1739\n",
      "0.11896451425247237\n",
      "0.1264543339150669\n"
     ]
    }
   ],
   "source": [
    "# label ratio\n",
    "label_col_names = ['AKI_LABEL', 'MORT_1_YEAR']\n",
    "print(len(KUMC_df[KUMC_df[label_col_names[0]] == 1]))\n",
    "print(len(KUMC_df[KUMC_df[label_col_names[1]] == 1]))\n",
    "print(len(KUMC_df[KUMC_df[label_col_names[0]] == 1])/len(KUMC_df))\n",
    "print(len(KUMC_df[KUMC_df[label_col_names[1]] == 1])/len(KUMC_df))"
   ]
  },
  {
   "cell_type": "markdown",
   "id": "67bf38fb-750b-48ad-934f-18dd063c3188",
   "metadata": {},
   "source": [
    "Demographics"
   ]
  },
  {
   "cell_type": "code",
   "execution_count": 87,
   "id": "27f7064f-157f-45fb-81ab-23fcb8b66ca1",
   "metadata": {},
   "outputs": [],
   "source": [
    "DEMO_df = pd.read_csv(data_path + \"AKI_DEMO.csv\", \n",
    "                      delimiter = ',', \n",
    "                      usecols = ['ONSETS_ENCOUNTERID', 'AGE', 'PATID', 'SEX', 'RACE'])"
   ]
  },
  {
   "cell_type": "code",
   "execution_count": 88,
   "id": "4cc2dc3e-7a91-4d93-a1a2-c2e24a605e48",
   "metadata": {},
   "outputs": [],
   "source": [
    "DEMO_df[['ONSETS_ENCOUNTERID', 'PATID', 'SEX', 'RACE']] = DEMO_df[['ONSETS_ENCOUNTERID', 'PATID', 'SEX', 'RACE']].astype(str)"
   ]
  },
  {
   "cell_type": "code",
   "execution_count": 89,
   "id": "cede5012-3ca4-414b-a5d4-940b61a89472",
   "metadata": {
    "tags": []
   },
   "outputs": [
    {
     "name": "stdout",
     "output_type": "stream",
     "text": [
      "Stored 'race_mapping' (dict)\n"
     ]
    }
   ],
   "source": [
    "race_mapping = \\\n",
    "{\n",
    "    '01': 'American Indian or Alaska Native',\n",
    "    'RACE:amer. indian': 'American Indian or Alaska Native',\n",
    "    '02': 'Asian',\n",
    "    'RACE:asian': 'Asian',\n",
    "    '03': 'Black',\n",
    "    'RACE:black': 'Black', \n",
    "    '04': 'Native Hawaiian',\n",
    "    'RACE:asian/pac. isl': 'Native Hawaiian',\n",
    "    'RACE:white': 'White',\n",
    "    '05': 'White',\n",
    "    '06': 'More Than One Race',\n",
    "    '07': 'Other',\n",
    "    'RACE:ot': 'Patient Refused',\n",
    "    'OT': 'Patient Refused',\n",
    "    'NI': 'No Information',\n",
    "    'RACE:ni': 'No Information',\n",
    "    'nan': 'No Information',\n",
    "    'UN': 'Unknown',\n",
    "    'RACE:unknown':  'Unknown'\n",
    "}\n",
    "%store race_mapping"
   ]
  },
  {
   "cell_type": "code",
   "execution_count": 90,
   "id": "0199b3af-6635-46d6-a149-f4331b740a97",
   "metadata": {
    "tags": []
   },
   "outputs": [],
   "source": [
    "DEMO_df['RACE'] = DEMO_df['RACE'].replace(race_mapping)\n",
    "DEMO_df.drop_duplicates(subset = ['PATID', 'ONSETS_ENCOUNTERID'], inplace = True)"
   ]
  },
  {
   "cell_type": "code",
   "execution_count": 91,
   "id": "cb5682ae-2fc0-4cc5-a187-54ac47763f65",
   "metadata": {
    "tags": []
   },
   "outputs": [],
   "source": [
    "KUMC_df = KUMC_df.merge(DEMO_df, on = ['PATID', 'ONSETS_ENCOUNTERID'], how = 'left')"
   ]
  },
  {
   "cell_type": "code",
   "execution_count": 92,
   "id": "3048740d-dfdf-4753-b879-b9470671f190",
   "metadata": {
    "tags": []
   },
   "outputs": [
    {
     "name": "stdout",
     "output_type": "stream",
     "text": [
      "6902\n",
      "0.501890634089587\n"
     ]
    }
   ],
   "source": [
    "print(len(KUMC_df[KUMC_df.SEX == 'F']))\n",
    "print(len(KUMC_df[KUMC_df.SEX == 'F']) / len(KUMC_df))"
   ]
  },
  {
   "cell_type": "code",
   "execution_count": 93,
   "id": "ee5cac39-46e8-4687-82ac-a0d1c23fea6f",
   "metadata": {
    "tags": []
   },
   "outputs": [
    {
     "name": "stdout",
     "output_type": "stream",
     "text": [
      "1856\n",
      "0.13496218731820825\n"
     ]
    }
   ],
   "source": [
    "print(len(KUMC_df[KUMC_df.RACE == 'Black']))\n",
    "print(len(KUMC_df[KUMC_df.RACE == 'Black']) / len(KUMC_df))"
   ]
  },
  {
   "cell_type": "code",
   "execution_count": 94,
   "id": "d0fa5c2e-7f36-446a-b90b-8b77036342cd",
   "metadata": {
    "tags": []
   },
   "outputs": [
    {
     "name": "stdout",
     "output_type": "stream",
     "text": [
      "0.25    48.0\n",
      "0.50    61.0\n",
      "0.75    71.0\n",
      "Name: AGE, dtype: float64\n"
     ]
    }
   ],
   "source": [
    "age_quantiles = KUMC_df['AGE'].quantile([0.25, 0.5, 0.75])\n",
    "print(age_quantiles)"
   ]
  },
  {
   "cell_type": "code",
   "execution_count": 95,
   "id": "308448c7-2369-4cfd-a0c9-3434fdbf63a9",
   "metadata": {
    "tags": []
   },
   "outputs": [
    {
     "name": "stdout",
     "output_type": "stream",
     "text": [
      "0.25     4.0\n",
      "0.50     7.0\n",
      "0.75    17.0\n",
      "Name: EARLIEST_AKI_STAGE_TO_ADMIT, dtype: float64\n"
     ]
    }
   ],
   "source": [
    "admit_to_onset_quantiles = KUMC_df['EARLIEST_AKI_STAGE_TO_ADMIT'].quantile([0.25, 0.5, 0.75])\n",
    "print(admit_to_onset_quantiles)"
   ]
  },
  {
   "cell_type": "markdown",
   "id": "10766096-07a7-4d66-88f4-6a5d2420c3c9",
   "metadata": {},
   "source": [
    "# Save Table"
   ]
  },
  {
   "cell_type": "code",
   "execution_count": 96,
   "id": "bca93fc3-c5ca-4cca-9630-816b3140c67a",
   "metadata": {},
   "outputs": [],
   "source": [
    "feature_space = list(medication_space) + list(PX_space) + list(lab_space)"
   ]
  },
  {
   "cell_type": "code",
   "execution_count": 97,
   "id": "baf8a9a8-2760-49a0-9dde-69fb3102150f",
   "metadata": {},
   "outputs": [
    {
     "name": "stdout",
     "output_type": "stream",
     "text": [
      "277\n",
      "288\n",
      "14\n"
     ]
    }
   ],
   "source": [
    "print(len(list(medication_space)))\n",
    "print(len(list(PX_space)))\n",
    "print(len(list(lab_space)))"
   ]
  },
  {
   "cell_type": "code",
   "execution_count": 98,
   "id": "1499d9b7-6fdf-49a4-98d4-ddc4c9462fb8",
   "metadata": {},
   "outputs": [],
   "source": [
    "# no nan in table\n",
    "assert(np.sum(KUMC_df[feature_space].isna().mean()) == 0)"
   ]
  },
  {
   "cell_type": "code",
   "execution_count": 99,
   "id": "c85626a9-c205-46a5-9a88-54c4da5fa60f",
   "metadata": {
    "tags": []
   },
   "outputs": [],
   "source": [
    "KUMC_df = KUMC_df[feature_space + label_col_names]"
   ]
  },
  {
   "cell_type": "code",
   "execution_count": 100,
   "id": "0fffca86-9872-4103-a6a0-2eb55553f84e",
   "metadata": {
    "tags": []
   },
   "outputs": [],
   "source": [
    "# before min-max norm, we process outliers first\n",
    "from scipy.stats import mstats\n",
    "KUMC_df = KUMC_df.apply(lambda col: mstats.winsorize(col, limits=[0.01, 0.01]))"
   ]
  },
  {
   "cell_type": "code",
   "execution_count": 101,
   "id": "3a2f0c8a-c9fb-4358-8049-30249f8ee9cd",
   "metadata": {},
   "outputs": [],
   "source": [
    "# min-max norm the data\n",
    "from sklearn.preprocessing import MinMaxScaler\n",
    "scaler = MinMaxScaler()\n",
    "KUMC_df_scaled = scaler.fit_transform(KUMC_df)\n",
    "KUMC_df = pd.DataFrame(KUMC_df_scaled, columns = KUMC_df.columns)"
   ]
  },
  {
   "cell_type": "code",
   "execution_count": null,
   "id": "3c47acc0-5599-45e3-957d-2261fcfdbf39",
   "metadata": {
    "tags": []
   },
   "outputs": [],
   "source": [
    "KUMC_df.to_csv('...', index = False)"
   ]
  },
  {
   "cell_type": "code",
   "execution_count": 104,
   "id": "ea0ea88e-aeb4-48f2-bc17-cc1f9df1a703",
   "metadata": {
    "tags": []
   },
   "outputs": [
    {
     "name": "stdout",
     "output_type": "stream",
     "text": [
      "Stored 'feature_space' (list)\n",
      "Stored 'medication_space' (list)\n",
      "Stored 'PX_space' (list)\n",
      "Stored 'lab_space' (list)\n",
      "Stored 'label_col_names' (list)\n"
     ]
    }
   ],
   "source": [
    "%store feature_space\n",
    "%store medication_space\n",
    "%store PX_space\n",
    "%store lab_space\n",
    "%store label_col_names"
   ]
  }
 ],
 "metadata": {
  "kernelspec": {
   "display_name": "AKI_AE",
   "language": "python",
   "name": "aki_ae"
  },
  "language_info": {
   "codemirror_mode": {
    "name": "ipython",
    "version": 3
   },
   "file_extension": ".py",
   "mimetype": "text/x-python",
   "name": "python",
   "nbconvert_exporter": "python",
   "pygments_lexer": "ipython3",
   "version": "3.12.4"
  }
 },
 "nbformat": 4,
 "nbformat_minor": 5
}
